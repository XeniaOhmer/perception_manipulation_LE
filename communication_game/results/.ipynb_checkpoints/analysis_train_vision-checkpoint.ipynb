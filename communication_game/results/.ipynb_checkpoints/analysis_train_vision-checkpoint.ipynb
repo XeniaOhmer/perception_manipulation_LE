{
 "cells": [
  {
   "cell_type": "code",
   "execution_count": 9,
   "metadata": {},
   "outputs": [],
   "source": [
    "import sys\n",
    "sys.path.append('/net/store/cogmod/users/xenohmer/PycharmProjects/SimilarityGames/')\n",
    "from communication_game.utils.similarity_analysis import *"
   ]
  },
  {
   "cell_type": "markdown",
   "metadata": {},
   "source": [
    "# receiver retrain"
   ]
  },
  {
   "cell_type": "code",
   "execution_count": 10,
   "metadata": {},
   "outputs": [],
   "source": [
    "n_epochs = 150\n",
    "agent_type = 'receiver'\n",
    "classification = False \n",
    "path_addition = ''\n",
    "run = 'default0'\n",
    "vocab_size = 4\n",
    "message_length = 3\n",
    "\n",
    "path = (path_prefix + 'communication_game/results/' + dataset + '/basic/' + \n",
    "        run + '/vs' + str(vocab_size) + '_ml' + str(message_length) + '/')\n",
    "    \n",
    "path_vision_agent_orig = all_cnn_paths['default0-0']\n",
    "vision_orig = tf.keras.models.load_model(path_prefix + path_vision_agent_orig)\n",
    "vision_orig = tf.keras.Model(inputs=vision_orig.input, outputs=vision_orig.get_layer('dense_2').output)\n",
    "vision_clone = tf.keras.models.clone_model(vision_orig)\n",
    "vision_module = tf.keras.Model(inputs=vision_clone.input, outputs=vision_clone.get_layer(\n",
    "    layer_name[1]).output)\n",
    "\n",
    "if classification: \n",
    "    classification_module = tf.keras.Sequential([vision_clone.get_layer(layer_name[k]) for k in reversed(range(1))])\n",
    "    if agent_type == 'receiver':\n",
    "        agent = ClassificationReceiver(vocab_size + 1, message_length, 128, 128, activation='tanh',\n",
    "                                       vision_module=vision_module, classification_module=classification_module, \n",
    "                                       n_distractors=2, image_dim=image_dim, train_vision=True) \n",
    "    elif agent_type == 'sender':\n",
    "        agent = ClassificationSender(vocab_size + 1, message_length, 128, 128, activation='tanh', vision_module=vision_module,\n",
    "                                     classification_module=classification_module, train_vision=True)\n",
    "    _ = agent.predict_class(tf.zeros((2,64,64,3)))\n",
    "else: \n",
    "    if agent_type == 'receiver':\n",
    "        agent = Receiver(vocab_size+1, message_length, 128, 128, image_dim=image_dim, activation='tanh',\n",
    "                         vision_module=vision_module, n_distractors=2, train_vision=True)\n",
    "    elif agent_type == 'sender':\n",
    "        agent = Sender(vocab_size+1, message_length, 128, 128, activation='tanh', vision_module=vision_module, \n",
    "                       train_vision=True)\n",
    "\n",
    "agent.load_weights(path + agent_type + '0_weights_epoch0/')\n",
    "vision_orig = tf.keras.Model(inputs=vision_orig.input, \n",
    "                             outputs=vision_orig.get_layer(layer_name[1]).output)\n",
    "vision_retrained = tf.keras.Model(inputs=agent.vision_module.input, \n",
    "                                  outputs=agent.vision_module.get_layer(layer_name[1]).output)\n"
   ]
  },
  {
   "cell_type": "code",
   "execution_count": 13,
   "metadata": {},
   "outputs": [],
   "source": [
    "L0 = vision_orig.layers[-2]"
   ]
  },
  {
   "cell_type": "code",
   "execution_count": 15,
   "metadata": {},
   "outputs": [],
   "source": [
    "w0 = L0.weights"
   ]
  },
  {
   "cell_type": "code",
   "execution_count": 16,
   "metadata": {},
   "outputs": [],
   "source": [
    "L1 = vision_retrained.layers[-2]"
   ]
  },
  {
   "cell_type": "code",
   "execution_count": 17,
   "metadata": {},
   "outputs": [],
   "source": [
    "w1 = L1.weights"
   ]
  },
  {
   "cell_type": "code",
   "execution_count": 21,
   "metadata": {},
   "outputs": [
    {
     "data": {
      "text/plain": [
       "0.0"
      ]
     },
     "execution_count": 21,
     "metadata": {},
     "output_type": "execute_result"
    }
   ],
   "source": [
    "np.sum(w0[0]-w1[0])"
   ]
  },
  {
   "cell_type": "code",
   "execution_count": 3,
   "metadata": {},
   "outputs": [],
   "source": [
    "val_data = np.load(path_prefix + 'communication_game/' + dataset + '_shards/val_data.npy')\n",
    "val_labels = np.load(path_prefix + 'communication_game/' + dataset + '_shards/val_labels.npy')"
   ]
  },
  {
   "cell_type": "code",
   "execution_count": 2,
   "metadata": {},
   "outputs": [],
   "source": [
    "#show_retrain_class_similarities_multiples(['default', 'color', 'scale', 'shape'], 4, 3, 'receiver', n_runs=3, n_examples=50, \n",
    "#                                          show_dissim=True)"
   ]
  },
  {
   "cell_type": "code",
   "execution_count": 3,
   "metadata": {},
   "outputs": [],
   "source": [
    "#show_retrain_class_similarities_multiples(['default', 'color', 'scale', 'shape'], 4, 1, 'receiver', n_runs=2, \n",
    "#                                          n_examples=50, show_dissim=True)"
   ]
  },
  {
   "cell_type": "code",
   "execution_count": 4,
   "metadata": {},
   "outputs": [
    {
     "name": "stdout",
     "output_type": "stream",
     "text": [
      "\n",
      "sender:default  receiver:default\n",
      "\n",
      "sim      color scale shape\n",
      "orig    [0.267 0.009 0.012]\n",
      "retrain [ 0.362  0.008 -0.004]\n",
      "\n",
      "sender:color  receiver:default\n",
      "\n",
      "sim      color scale shape\n",
      "orig    [0.267 0.009 0.012]\n",
      "retrain [ 0.308 -0.015 -0.015]\n",
      "\n",
      "sender:scale  receiver:default\n",
      "\n",
      "sim      color scale shape\n",
      "orig    [0.267 0.009 0.012]\n",
      "retrain [ 0.157  0.24  -0.021]\n",
      "\n",
      "sender:shape  receiver:default\n",
      "\n",
      "sim      color scale shape\n",
      "orig    [0.267 0.009 0.012]\n",
      "retrain [ 0.19  -0.016  0.11 ]\n"
     ]
    }
   ],
   "source": [
    "show_retrain_class_similarities_multiples(['default', 'color', 'scale', 'shape'], 4, 3, 'receiver', n_runs=3, \n",
    "                                          n_examples=50, difference=True)"
   ]
  },
  {
   "cell_type": "code",
   "execution_count": 5,
   "metadata": {},
   "outputs": [
    {
     "name": "stdout",
     "output_type": "stream",
     "text": [
      "\n",
      "sender:default  receiver:default\n",
      "\n",
      "sim      color scale shape\n",
      "orig    [0.267 0.009 0.012]\n",
      "retrain [ 0.358 -0.018 -0.004]\n",
      "\n",
      "sender:color  receiver:default\n",
      "\n",
      "sim      color scale shape\n",
      "orig    [0.267 0.009 0.012]\n",
      "retrain [ 0.259 -0.012 -0.013]\n",
      "\n",
      "sender:scale  receiver:default\n",
      "\n",
      "sim      color scale shape\n",
      "orig    [0.267 0.009 0.012]\n",
      "retrain [-0.003  0.307 -0.016]\n",
      "\n",
      "sender:shape  receiver:default\n",
      "\n",
      "sim      color scale shape\n",
      "orig    [0.267 0.009 0.012]\n",
      "retrain [ 0.116 -0.012  0.097]\n"
     ]
    }
   ],
   "source": [
    "show_retrain_class_similarities_multiples(['default', 'color', 'scale', 'shape'], 4, 1, 'receiver', n_runs=2, \n",
    "                                          n_examples=50, difference=True)"
   ]
  },
  {
   "cell_type": "markdown",
   "metadata": {},
   "source": [
    "# receiver retrain + classification"
   ]
  },
  {
   "cell_type": "code",
   "execution_count": null,
   "metadata": {},
   "outputs": [],
   "source": [
    "# show_retrain_class_similarities_multiples(['default', 'color', 'scale', 'shape'], 4, 3, 'receiver', n_runs=3, \n",
    "#                                           n_examples=50, classification=True, show_dissim=True)"
   ]
  },
  {
   "cell_type": "code",
   "execution_count": null,
   "metadata": {},
   "outputs": [],
   "source": [
    "# show_retrain_class_similarities_multiples(['default', 'color', 'scale', 'shape'], 4, 1, 'receiver', n_runs=3, n_examples=50, \n",
    "#                                           classification=True, show_dissim=True)"
   ]
  },
  {
   "cell_type": "code",
   "execution_count": 6,
   "metadata": {},
   "outputs": [
    {
     "name": "stdout",
     "output_type": "stream",
     "text": [
      "\n",
      "sender:default  receiver:default\n",
      "\n",
      "sim      color scale shape\n",
      "orig    [0.267 0.009 0.012]\n",
      "retrain [0.211 0.125 0.042]\n",
      "\n",
      "sender:color  receiver:default\n",
      "\n",
      "sim      color scale shape\n",
      "orig    [0.267 0.009 0.012]\n",
      "retrain [0.199 0.144 0.039]\n",
      "\n",
      "sender:scale  receiver:default\n",
      "\n",
      "sim      color scale shape\n",
      "orig    [0.267 0.009 0.012]\n",
      "retrain [0.123 0.242 0.041]\n",
      "\n",
      "sender:shape  receiver:default\n",
      "\n",
      "sim      color scale shape\n",
      "orig    [0.267 0.009 0.012]\n",
      "retrain [0.179 0.121 0.098]\n"
     ]
    }
   ],
   "source": [
    "show_retrain_class_similarities_multiples(['default', 'color', 'scale', 'shape'], 4, 3, 'receiver', n_runs=3, n_examples=50, \n",
    "                                          classification=True, difference=True)"
   ]
  },
  {
   "cell_type": "code",
   "execution_count": 7,
   "metadata": {},
   "outputs": [
    {
     "name": "stdout",
     "output_type": "stream",
     "text": [
      "\n",
      "sender:default  receiver:default\n",
      "\n",
      "sim      color scale shape\n",
      "orig    [0.267 0.009 0.012]\n",
      "retrain [0.247 0.106 0.045]\n",
      "\n",
      "sender:color  receiver:default\n",
      "\n",
      "sim      color scale shape\n",
      "orig    [0.267 0.009 0.012]\n",
      "retrain [0.249 0.116 0.032]\n",
      "\n",
      "sender:scale  receiver:default\n",
      "\n",
      "sim      color scale shape\n",
      "orig    [0.267 0.009 0.012]\n",
      "retrain [0.099 0.27  0.036]\n",
      "\n",
      "sender:shape  receiver:default\n",
      "\n",
      "sim      color scale shape\n",
      "orig    [0.267 0.009 0.012]\n",
      "retrain [0.17  0.095 0.121]\n"
     ]
    }
   ],
   "source": [
    "show_retrain_class_similarities_multiples(['default', 'color', 'scale', 'shape'], 4, 1, 'receiver', n_runs=3, n_examples=50, \n",
    "                                          classification=True, difference=True)"
   ]
  },
  {
   "cell_type": "markdown",
   "metadata": {},
   "source": [
    "# sender retrain"
   ]
  },
  {
   "cell_type": "markdown",
   "metadata": {},
   "source": [
    "### not done yet "
   ]
  },
  {
   "cell_type": "markdown",
   "metadata": {},
   "source": [
    "# sender retrain + classification"
   ]
  },
  {
   "cell_type": "code",
   "execution_count": null,
   "metadata": {},
   "outputs": [],
   "source": [
    "# show_retrain_class_similarities_multiples(['default', 'color', 'scale', 'shape'], 4, 3, 'sender', n_runs=3, n_examples=50, \n",
    "#                                         classification=True, show_dissim=True)"
   ]
  },
  {
   "cell_type": "code",
   "execution_count": null,
   "metadata": {},
   "outputs": [],
   "source": [
    "# show_retrain_class_similarities_multiples(['default', 'color', 'scale', 'shape'], 4, 1, 'sender', n_runs=3, n_examples=50, \n",
    "#                                          classification=True, show_dissim=True)"
   ]
  },
  {
   "cell_type": "code",
   "execution_count": 8,
   "metadata": {},
   "outputs": [
    {
     "name": "stdout",
     "output_type": "stream",
     "text": [
      "\n",
      "sender:default  receiver:default\n",
      "\n",
      "sim      color scale shape\n",
      "orig    [0.267 0.009 0.012]\n",
      "retrain [0.182 0.133 0.064]\n",
      "\n",
      "sender:default  receiver:color\n",
      "\n",
      "sim      color scale shape\n",
      "orig    [0.267 0.009 0.012]\n",
      "retrain [0.165 0.159 0.045]\n",
      "\n",
      "sender:default  receiver:scale\n",
      "\n",
      "sim      color scale shape\n",
      "orig    [0.267 0.009 0.012]\n",
      "retrain [0.154 0.201 0.049]\n",
      "\n",
      "sender:default  receiver:shape\n",
      "\n",
      "sim      color scale shape\n",
      "orig    [0.267 0.009 0.012]\n",
      "retrain [0.179 0.144 0.075]\n"
     ]
    }
   ],
   "source": [
    "show_retrain_class_similarities_multiples(['default', 'color', 'scale', 'shape'], 4, 3, 'sender', n_runs=3, n_examples=50, \n",
    "                                          classification=True, difference=True)"
   ]
  },
  {
   "cell_type": "code",
   "execution_count": 9,
   "metadata": {},
   "outputs": [
    {
     "name": "stdout",
     "output_type": "stream",
     "text": [
      "\n",
      "sender:default  receiver:default\n",
      "\n",
      "sim      color scale shape\n",
      "orig    [0.267 0.009 0.012]\n",
      "retrain [0.178 0.123 0.06 ]\n",
      "\n",
      "sender:default  receiver:color\n",
      "\n",
      "sim      color scale shape\n",
      "orig    [0.267 0.009 0.012]\n",
      "retrain [0.194 0.133 0.043]\n",
      "\n",
      "sender:default  receiver:scale\n",
      "\n",
      "sim      color scale shape\n",
      "orig    [0.267 0.009 0.012]\n",
      "retrain [0.132 0.205 0.039]\n",
      "\n",
      "sender:default  receiver:shape\n",
      "\n",
      "sim      color scale shape\n",
      "orig    [0.267 0.009 0.012]\n",
      "retrain [0.175 0.124 0.057]\n"
     ]
    }
   ],
   "source": [
    "show_retrain_class_similarities_multiples(['default', 'color', 'scale', 'shape'], 4, 1, 'sender', n_runs=3, n_examples=50, \n",
    "                                          classification=True, difference=True)"
   ]
  },
  {
   "cell_type": "code",
   "execution_count": null,
   "metadata": {},
   "outputs": [],
   "source": []
  }
 ],
 "metadata": {
  "kernelspec": {
   "display_name": "Python 3",
   "language": "python",
   "name": "python3"
  },
  "language_info": {
   "codemirror_mode": {
    "name": "ipython",
    "version": 3
   },
   "file_extension": ".py",
   "mimetype": "text/x-python",
   "name": "python",
   "nbconvert_exporter": "python",
   "pygments_lexer": "ipython3",
   "version": "3.7.9"
  }
 },
 "nbformat": 4,
 "nbformat_minor": 4
}
